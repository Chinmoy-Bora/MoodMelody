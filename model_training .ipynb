{
 "cells": [
  {
   "cell_type": "code",
   "execution_count": 4,
   "id": "e9a6a83e-5758-4071-bdee-b26c793d6e42",
   "metadata": {},
   "outputs": [],
   "source": [
    "from keras.utils import to_categorical\n",
    "from keras_preprocessing.image import load_img\n",
    "from keras.models import Sequential\n",
    "from keras.layers import Dense, Conv2D, Dropout, Flatten, MaxPooling2D\n",
    "import os\n",
    "import pandas as pd\n",
    "import numpy as np\n"
   ]
  },
  {
   "cell_type": "code",
   "execution_count": 8,
   "id": "471a79ef-b0b8-4229-88d7-8fe11006ed01",
   "metadata": {},
   "outputs": [],
   "source": [
    "TRAIN_DIR = 'Data/images/train'\n",
    "TEST_DIR = 'Data/images/test'"
   ]
  },
  {
   "cell_type": "code",
   "execution_count": 9,
   "id": "39648881-5941-44b5-bc08-35ed9f9d1690",
   "metadata": {},
   "outputs": [],
   "source": [
    "def createdataframe(dir):\n",
    "    image_paths = []\n",
    "    labels = []\n",
    "    for label in os.listdir(dir):\n",
    "        for imagename in os.listdir(os.path.join(dir,label)):\n",
    "            image_paths.append(os.path.join(dir,label,imagename))\n",
    "            labels.append(label)\n",
    "        print(label, \"completed\")\n",
    "    return image_paths,labels"
   ]
  },
  {
   "cell_type": "code",
   "execution_count": 10,
   "id": "2105068b-5f15-4f22-8fce-1140ee762bad",
   "metadata": {},
   "outputs": [
    {
     "name": "stdout",
     "output_type": "stream",
     "text": [
      "neutral completed\n",
      "sad completed\n",
      "angry completed\n",
      "happy completed\n"
     ]
    }
   ],
   "source": [
    "train = pd.DataFrame()\n",
    "train['image'], train['label'] = createdataframe(TRAIN_DIR)"
   ]
  },
  {
   "cell_type": "code",
   "execution_count": 11,
   "id": "757db253-030f-4a2a-ad32-78d0b2a72993",
   "metadata": {},
   "outputs": [
    {
     "name": "stdout",
     "output_type": "stream",
     "text": [
      "                                     image    label\n",
      "0       Data/images/train/neutral/7470.jpg  neutral\n",
      "1      Data/images/train/neutral/29714.jpg  neutral\n",
      "2      Data/images/train/neutral/13369.jpg  neutral\n",
      "3      Data/images/train/neutral/18013.jpg  neutral\n",
      "4       Data/images/train/neutral/3266.jpg  neutral\n",
      "...                                    ...      ...\n",
      "21072    Data/images/train/happy/32904.jpg    happy\n",
      "21073    Data/images/train/happy/33723.jpg    happy\n",
      "21074    Data/images/train/happy/10277.jpg    happy\n",
      "21075    Data/images/train/happy/29776.jpg    happy\n",
      "21076    Data/images/train/happy/14963.jpg    happy\n",
      "\n",
      "[21077 rows x 2 columns]\n"
     ]
    }
   ],
   "source": [
    "print(train)"
   ]
  },
  {
   "cell_type": "code",
   "execution_count": 12,
   "id": "50425945-f5a2-494e-806e-1c41eed25d58",
   "metadata": {},
   "outputs": [
    {
     "name": "stdout",
     "output_type": "stream",
     "text": [
      "neutral completed\n",
      "sad completed\n",
      "angry completed\n",
      "happy completed\n"
     ]
    }
   ],
   "source": [
    "test = pd.DataFrame()\n",
    "test['image'], test['label'] = createdataframe(TEST_DIR)"
   ]
  },
  {
   "cell_type": "code",
   "execution_count": 13,
   "id": "6ce057b1-611f-4b6c-8c42-5e128cafad83",
   "metadata": {},
   "outputs": [
    {
     "name": "stdout",
     "output_type": "stream",
     "text": [
      "                                   image    label\n",
      "0      Data/images/test/neutral/7009.jpg  neutral\n",
      "1     Data/images/test/neutral/12423.jpg  neutral\n",
      "2     Data/images/test/neutral/19131.jpg  neutral\n",
      "3      Data/images/test/neutral/5591.jpg  neutral\n",
      "4     Data/images/test/neutral/23396.jpg  neutral\n",
      "...                                  ...      ...\n",
      "5135    Data/images/test/happy/15271.jpg    happy\n",
      "5136    Data/images/test/happy/21027.jpg    happy\n",
      "5137    Data/images/test/happy/18297.jpg    happy\n",
      "5138    Data/images/test/happy/24393.jpg    happy\n",
      "5139    Data/images/test/happy/22459.jpg    happy\n",
      "\n",
      "[5140 rows x 2 columns]\n"
     ]
    }
   ],
   "source": [
    "print(test)"
   ]
  },
  {
   "cell_type": "code",
   "execution_count": 14,
   "id": "4aa379d4-8688-4eba-8668-0eae3e836a58",
   "metadata": {},
   "outputs": [],
   "source": [
    "from tqdm.notebook import tqdm"
   ]
  },
  {
   "cell_type": "code",
   "execution_count": 15,
   "id": "9d485471-0443-4f27-b08a-54f993278e0a",
   "metadata": {},
   "outputs": [],
   "source": [
    "def extract_features(images):\n",
    "    features = []\n",
    "    for image in tqdm(images):\n",
    "        img = load_img(image,grayscale =  True )\n",
    "        img = np.array(img)\n",
    "        features.append(img)\n",
    "    features = np.array(features)\n",
    "    features = features.reshape(len(features),48,48,1)\n",
    "    return features"
   ]
  },
  {
   "cell_type": "code",
   "execution_count": 16,
   "id": "32fa4d0a-015b-4d3d-828a-a880a9c42343",
   "metadata": {},
   "outputs": [
    {
     "data": {
      "application/vnd.jupyter.widget-view+json": {
       "model_id": "c3eadd2b57d04720beb453cc9adee868",
       "version_major": 2,
       "version_minor": 0
      },
      "text/plain": [
       "  0%|          | 0/21077 [00:00<?, ?it/s]"
      ]
     },
     "metadata": {},
     "output_type": "display_data"
    },
    {
     "name": "stderr",
     "output_type": "stream",
     "text": [
      "/home/goru/.conda/envs/tf/lib/python3.7/site-packages/keras_preprocessing/image/utils.py:107: UserWarning: grayscale is deprecated. Please use color_mode = \"grayscale\"\n",
      "  warnings.warn('grayscale is deprecated. Please use '\n"
     ]
    }
   ],
   "source": [
    "train_features = extract_features(train['image'])"
   ]
  },
  {
   "cell_type": "code",
   "execution_count": 17,
   "id": "8980112d-6abd-416f-81cd-e892b34de282",
   "metadata": {},
   "outputs": [
    {
     "data": {
      "application/vnd.jupyter.widget-view+json": {
       "model_id": "7fd7ca19857d47d5bb1192cc42da958e",
       "version_major": 2,
       "version_minor": 0
      },
      "text/plain": [
       "  0%|          | 0/5140 [00:00<?, ?it/s]"
      ]
     },
     "metadata": {},
     "output_type": "display_data"
    }
   ],
   "source": [
    "test_features = extract_features(test['image'])"
   ]
  },
  {
   "cell_type": "code",
   "execution_count": 18,
   "id": "18481860-3c2c-421d-ad95-27556b212b24",
   "metadata": {},
   "outputs": [],
   "source": [
    "x_train = train_features/255.0\n",
    "x_test = test_features/255.0"
   ]
  },
  {
   "cell_type": "code",
   "execution_count": 19,
   "id": "451a4af9-8818-4abe-9fb8-568ab182dcd7",
   "metadata": {},
   "outputs": [],
   "source": [
    "from sklearn.preprocessing import LabelEncoder"
   ]
  },
  {
   "cell_type": "code",
   "execution_count": 20,
   "id": "feb33729-b40e-4c4c-8365-3a50a8f77030",
   "metadata": {},
   "outputs": [
    {
     "data": {
      "text/plain": [
       "LabelEncoder()"
      ]
     },
     "execution_count": 20,
     "metadata": {},
     "output_type": "execute_result"
    }
   ],
   "source": [
    "le = LabelEncoder()\n",
    "le.fit(train['label'])"
   ]
  },
  {
   "cell_type": "code",
   "execution_count": 21,
   "id": "f683a507-827e-4543-8e64-0e90d6807a11",
   "metadata": {},
   "outputs": [],
   "source": [
    "y_train = le.transform(train['label'])\n",
    "y_test = le.transform(test['label'])"
   ]
  },
  {
   "cell_type": "code",
   "execution_count": 22,
   "id": "a02dae76-ae28-4585-9713-da1745a9ab99",
   "metadata": {},
   "outputs": [],
   "source": [
    "y_train = to_categorical(y_train,num_classes = 4)\n",
    "y_test = to_categorical(y_test,num_classes = 4)"
   ]
  },
  {
   "cell_type": "code",
   "execution_count": 23,
   "id": "73be0407-b67e-4c71-aa36-6887dfac2b46",
   "metadata": {},
   "outputs": [
    {
     "name": "stderr",
     "output_type": "stream",
     "text": [
      "2023-09-18 23:59:22.212464: I tensorflow/compiler/xla/stream_executor/cuda/cuda_gpu_executor.cc:981] successful NUMA node read from SysFS had negative value (-1), but there must be at least one NUMA node, so returning NUMA node zero\n",
      "2023-09-18 23:59:22.338427: I tensorflow/compiler/xla/stream_executor/cuda/cuda_gpu_executor.cc:981] successful NUMA node read from SysFS had negative value (-1), but there must be at least one NUMA node, so returning NUMA node zero\n",
      "2023-09-18 23:59:22.338644: I tensorflow/compiler/xla/stream_executor/cuda/cuda_gpu_executor.cc:981] successful NUMA node read from SysFS had negative value (-1), but there must be at least one NUMA node, so returning NUMA node zero\n",
      "2023-09-18 23:59:22.339255: I tensorflow/core/platform/cpu_feature_guard.cc:193] This TensorFlow binary is optimized with oneAPI Deep Neural Network Library (oneDNN) to use the following CPU instructions in performance-critical operations:  AVX2 FMA\n",
      "To enable them in other operations, rebuild TensorFlow with the appropriate compiler flags.\n",
      "2023-09-18 23:59:22.340088: I tensorflow/compiler/xla/stream_executor/cuda/cuda_gpu_executor.cc:981] successful NUMA node read from SysFS had negative value (-1), but there must be at least one NUMA node, so returning NUMA node zero\n",
      "2023-09-18 23:59:22.340241: I tensorflow/compiler/xla/stream_executor/cuda/cuda_gpu_executor.cc:981] successful NUMA node read from SysFS had negative value (-1), but there must be at least one NUMA node, so returning NUMA node zero\n",
      "2023-09-18 23:59:22.340348: I tensorflow/compiler/xla/stream_executor/cuda/cuda_gpu_executor.cc:981] successful NUMA node read from SysFS had negative value (-1), but there must be at least one NUMA node, so returning NUMA node zero\n",
      "2023-09-18 23:59:22.409054: I tensorflow/compiler/xla/stream_executor/cuda/cuda_gpu_executor.cc:981] successful NUMA node read from SysFS had negative value (-1), but there must be at least one NUMA node, so returning NUMA node zero\n",
      "2023-09-18 23:59:22.409484: I tensorflow/compiler/xla/stream_executor/cuda/cuda_gpu_executor.cc:981] successful NUMA node read from SysFS had negative value (-1), but there must be at least one NUMA node, so returning NUMA node zero\n",
      "2023-09-18 23:59:22.409601: I tensorflow/compiler/xla/stream_executor/cuda/cuda_gpu_executor.cc:981] successful NUMA node read from SysFS had negative value (-1), but there must be at least one NUMA node, so returning NUMA node zero\n",
      "2023-09-18 23:59:22.409954: I tensorflow/core/common_runtime/gpu/gpu_device.cc:1613] Created device /job:localhost/replica:0/task:0/device:GPU:0 with 2794 MB memory:  -> device: 0, name: NVIDIA GeForce GTX 1650 Ti, pci bus id: 0000:01:00.0, compute capability: 7.5\n"
     ]
    }
   ],
   "source": [
    "model = Sequential()\n",
    "# convolutional layers\n",
    "model.add(Conv2D(128, kernel_size=(3,3), activation='relu', input_shape=(48,48,1)))\n",
    "model.add(MaxPooling2D(pool_size=(2,2)))\n",
    "model.add(Dropout(0.4))\n",
    "\n",
    "model.add(Conv2D(256, kernel_size=(3,3), activation='relu'))\n",
    "model.add(MaxPooling2D(pool_size=(2,2)))\n",
    "model.add(Dropout(0.4))\n",
    "\n",
    "model.add(Conv2D(512, kernel_size=(3,3), activation='relu'))\n",
    "model.add(MaxPooling2D(pool_size=(2,2)))\n",
    "model.add(Dropout(0.4))\n",
    "\n",
    "model.add(Conv2D(512, kernel_size=(3,3), activation='relu'))\n",
    "model.add(MaxPooling2D(pool_size=(2,2)))\n",
    "model.add(Dropout(0.4))\n",
    "\n",
    "model.add(Flatten())\n",
    "# fully connected layers\n",
    "model.add(Dense(512, activation='relu'))\n",
    "model.add(Dropout(0.4))\n",
    "model.add(Dense(256, activation='relu'))\n",
    "model.add(Dropout(0.3))\n",
    "# output layer\n",
    "model.add(Dense(4, activation='softmax'))"
   ]
  },
  {
   "cell_type": "code",
   "execution_count": 26,
   "id": "7ad6b3d3-ba30-4901-8720-91944d013c68",
   "metadata": {},
   "outputs": [],
   "source": [
    "model.compile(optimizer = 'adam', loss = 'categorical_crossentropy', metrics = 'accuracy' )"
   ]
  },
  {
   "cell_type": "code",
   "execution_count": 27,
   "id": "cf67bfef-3b63-4e08-b963-32c810c197a0",
   "metadata": {},
   "outputs": [
    {
     "name": "stdout",
     "output_type": "stream",
     "text": [
      "Epoch 1/150\n"
     ]
    },
    {
     "name": "stderr",
     "output_type": "stream",
     "text": [
      "2023-09-18 23:59:51.424901: W tensorflow/tsl/framework/cpu_allocator_impl.cc:82] Allocation of 194245632 exceeds 10% of free system memory.\n",
      "2023-09-18 23:59:51.560576: W tensorflow/tsl/framework/cpu_allocator_impl.cc:82] Allocation of 194245632 exceeds 10% of free system memory.\n",
      "2023-09-18 23:59:52.347883: E tensorflow/core/grappler/optimizers/meta_optimizer.cc:954] layout failed: INVALID_ARGUMENT: Size of values 0 does not match size of permutation 4 @ fanin shape insequential/dropout/dropout/SelectV2-2-TransposeNHWCToNCHW-LayoutOptimizer\n"
     ]
    },
    {
     "name": "stdout",
     "output_type": "stream",
     "text": [
      "165/165 [==============================] - 16s 91ms/step - loss: 1.3486 - accuracy: 0.3498 - val_loss: 1.3200 - val_accuracy: 0.3739\n",
      "Epoch 2/150\n",
      "165/165 [==============================] - 13s 81ms/step - loss: 1.2955 - accuracy: 0.3977 - val_loss: 1.1892 - val_accuracy: 0.4879\n",
      "Epoch 3/150\n",
      "165/165 [==============================] - 14s 83ms/step - loss: 1.1843 - accuracy: 0.4723 - val_loss: 1.0753 - val_accuracy: 0.5346\n",
      "Epoch 4/150\n",
      "165/165 [==============================] - 14s 84ms/step - loss: 1.1125 - accuracy: 0.5107 - val_loss: 1.0233 - val_accuracy: 0.5556\n",
      "Epoch 5/150\n",
      "165/165 [==============================] - 14s 84ms/step - loss: 1.0575 - accuracy: 0.5398 - val_loss: 0.9520 - val_accuracy: 0.5901\n",
      "Epoch 6/150\n",
      "165/165 [==============================] - 14s 84ms/step - loss: 1.0186 - accuracy: 0.5617 - val_loss: 0.9356 - val_accuracy: 0.5969\n",
      "Epoch 7/150\n",
      "165/165 [==============================] - 14s 87ms/step - loss: 0.9934 - accuracy: 0.5739 - val_loss: 0.8975 - val_accuracy: 0.6226\n",
      "Epoch 8/150\n",
      "165/165 [==============================] - 14s 83ms/step - loss: 0.9744 - accuracy: 0.5853 - val_loss: 0.8957 - val_accuracy: 0.6265\n",
      "Epoch 9/150\n",
      "165/165 [==============================] - 14s 84ms/step - loss: 0.9543 - accuracy: 0.5965 - val_loss: 0.8822 - val_accuracy: 0.6375\n",
      "Epoch 10/150\n",
      "165/165 [==============================] - 14s 83ms/step - loss: 0.9333 - accuracy: 0.6090 - val_loss: 0.8885 - val_accuracy: 0.6352\n",
      "Epoch 11/150\n",
      "165/165 [==============================] - 14s 87ms/step - loss: 0.9194 - accuracy: 0.6129 - val_loss: 0.8418 - val_accuracy: 0.6488\n",
      "Epoch 12/150\n",
      "165/165 [==============================] - 14s 84ms/step - loss: 0.9088 - accuracy: 0.6209 - val_loss: 0.8292 - val_accuracy: 0.6613\n",
      "Epoch 13/150\n",
      "165/165 [==============================] - 14s 84ms/step - loss: 0.8956 - accuracy: 0.6268 - val_loss: 0.8206 - val_accuracy: 0.6576\n",
      "Epoch 14/150\n",
      "165/165 [==============================] - 14s 84ms/step - loss: 0.8777 - accuracy: 0.6358 - val_loss: 0.8196 - val_accuracy: 0.6650\n",
      "Epoch 15/150\n",
      "165/165 [==============================] - 14s 83ms/step - loss: 0.8681 - accuracy: 0.6392 - val_loss: 0.8135 - val_accuracy: 0.6693\n",
      "Epoch 16/150\n",
      "165/165 [==============================] - 14s 83ms/step - loss: 0.8681 - accuracy: 0.6390 - val_loss: 0.8170 - val_accuracy: 0.6658\n",
      "Epoch 17/150\n",
      "165/165 [==============================] - 14s 84ms/step - loss: 0.8529 - accuracy: 0.6492 - val_loss: 0.8002 - val_accuracy: 0.6745\n",
      "Epoch 18/150\n",
      "165/165 [==============================] - 14s 84ms/step - loss: 0.8358 - accuracy: 0.6544 - val_loss: 0.7998 - val_accuracy: 0.6747\n",
      "Epoch 19/150\n",
      "165/165 [==============================] - 14s 85ms/step - loss: 0.8331 - accuracy: 0.6574 - val_loss: 0.7935 - val_accuracy: 0.6807\n",
      "Epoch 20/150\n",
      "165/165 [==============================] - 14s 85ms/step - loss: 0.8225 - accuracy: 0.6604 - val_loss: 0.7853 - val_accuracy: 0.6800\n",
      "Epoch 21/150\n",
      "165/165 [==============================] - 14s 84ms/step - loss: 0.8123 - accuracy: 0.6639 - val_loss: 0.7959 - val_accuracy: 0.6733\n",
      "Epoch 22/150\n",
      "165/165 [==============================] - 14s 84ms/step - loss: 0.8066 - accuracy: 0.6704 - val_loss: 0.7871 - val_accuracy: 0.6802\n",
      "Epoch 23/150\n",
      "165/165 [==============================] - 14s 84ms/step - loss: 0.8039 - accuracy: 0.6706 - val_loss: 0.7777 - val_accuracy: 0.6831\n",
      "Epoch 24/150\n",
      "165/165 [==============================] - 14s 85ms/step - loss: 0.7983 - accuracy: 0.6753 - val_loss: 0.7834 - val_accuracy: 0.6835\n",
      "Epoch 25/150\n",
      "165/165 [==============================] - 14s 84ms/step - loss: 0.7977 - accuracy: 0.6733 - val_loss: 0.7857 - val_accuracy: 0.6802\n",
      "Epoch 26/150\n",
      "165/165 [==============================] - 14s 84ms/step - loss: 0.7878 - accuracy: 0.6758 - val_loss: 0.7880 - val_accuracy: 0.6798\n",
      "Epoch 27/150\n",
      "165/165 [==============================] - 14s 84ms/step - loss: 0.7783 - accuracy: 0.6843 - val_loss: 0.7781 - val_accuracy: 0.6856\n",
      "Epoch 28/150\n",
      "165/165 [==============================] - 14s 83ms/step - loss: 0.7675 - accuracy: 0.6887 - val_loss: 0.7737 - val_accuracy: 0.6862\n",
      "Epoch 29/150\n",
      "165/165 [==============================] - 14s 84ms/step - loss: 0.7618 - accuracy: 0.6904 - val_loss: 0.7708 - val_accuracy: 0.6885\n",
      "Epoch 30/150\n",
      "165/165 [==============================] - 14s 84ms/step - loss: 0.7566 - accuracy: 0.6966 - val_loss: 0.7724 - val_accuracy: 0.6879\n",
      "Epoch 31/150\n",
      "165/165 [==============================] - 14s 84ms/step - loss: 0.7575 - accuracy: 0.6937 - val_loss: 0.7691 - val_accuracy: 0.6868\n",
      "Epoch 32/150\n",
      "165/165 [==============================] - 14s 85ms/step - loss: 0.7504 - accuracy: 0.6977 - val_loss: 0.7699 - val_accuracy: 0.6912\n",
      "Epoch 33/150\n",
      "165/165 [==============================] - 14s 85ms/step - loss: 0.7490 - accuracy: 0.6988 - val_loss: 0.7662 - val_accuracy: 0.6918\n",
      "Epoch 34/150\n",
      "165/165 [==============================] - 14s 84ms/step - loss: 0.7396 - accuracy: 0.6997 - val_loss: 0.7669 - val_accuracy: 0.6911\n",
      "Epoch 35/150\n",
      "165/165 [==============================] - 14s 84ms/step - loss: 0.7329 - accuracy: 0.7037 - val_loss: 0.7643 - val_accuracy: 0.6932\n",
      "Epoch 36/150\n",
      "165/165 [==============================] - 14s 85ms/step - loss: 0.7224 - accuracy: 0.7049 - val_loss: 0.7634 - val_accuracy: 0.6940\n",
      "Epoch 37/150\n",
      "165/165 [==============================] - 14s 83ms/step - loss: 0.7230 - accuracy: 0.7104 - val_loss: 0.7707 - val_accuracy: 0.6909\n",
      "Epoch 38/150\n",
      "165/165 [==============================] - 14s 83ms/step - loss: 0.7188 - accuracy: 0.7119 - val_loss: 0.7643 - val_accuracy: 0.6934\n",
      "Epoch 39/150\n",
      "165/165 [==============================] - 14s 84ms/step - loss: 0.7068 - accuracy: 0.7131 - val_loss: 0.7675 - val_accuracy: 0.6951\n",
      "Epoch 40/150\n",
      "165/165 [==============================] - 14s 84ms/step - loss: 0.7096 - accuracy: 0.7151 - val_loss: 0.7516 - val_accuracy: 0.7004\n",
      "Epoch 41/150\n",
      "165/165 [==============================] - 14s 85ms/step - loss: 0.7032 - accuracy: 0.7180 - val_loss: 0.7451 - val_accuracy: 0.6996\n",
      "Epoch 42/150\n",
      "165/165 [==============================] - 14s 85ms/step - loss: 0.6867 - accuracy: 0.7292 - val_loss: 0.7609 - val_accuracy: 0.7004\n",
      "Epoch 43/150\n",
      "165/165 [==============================] - 14s 85ms/step - loss: 0.6856 - accuracy: 0.7236 - val_loss: 0.7684 - val_accuracy: 0.6957\n",
      "Epoch 44/150\n",
      "165/165 [==============================] - 14s 85ms/step - loss: 0.6833 - accuracy: 0.7268 - val_loss: 0.7571 - val_accuracy: 0.6971\n",
      "Epoch 45/150\n",
      "165/165 [==============================] - 14s 85ms/step - loss: 0.6822 - accuracy: 0.7234 - val_loss: 0.7564 - val_accuracy: 0.7000\n",
      "Epoch 46/150\n",
      "165/165 [==============================] - 14s 85ms/step - loss: 0.6762 - accuracy: 0.7272 - val_loss: 0.7627 - val_accuracy: 0.6961\n",
      "Epoch 47/150\n",
      "165/165 [==============================] - 14s 85ms/step - loss: 0.6708 - accuracy: 0.7332 - val_loss: 0.7517 - val_accuracy: 0.7018\n",
      "Epoch 48/150\n",
      "165/165 [==============================] - 14s 86ms/step - loss: 0.6628 - accuracy: 0.7373 - val_loss: 0.7682 - val_accuracy: 0.6944\n",
      "Epoch 49/150\n",
      "165/165 [==============================] - 15s 88ms/step - loss: 0.6628 - accuracy: 0.7346 - val_loss: 0.7533 - val_accuracy: 0.6996\n",
      "Epoch 50/150\n",
      "165/165 [==============================] - 14s 85ms/step - loss: 0.6634 - accuracy: 0.7332 - val_loss: 0.7514 - val_accuracy: 0.6994\n",
      "Epoch 51/150\n",
      "165/165 [==============================] - 14s 85ms/step - loss: 0.6611 - accuracy: 0.7385 - val_loss: 0.7509 - val_accuracy: 0.6981\n",
      "Epoch 52/150\n",
      "165/165 [==============================] - 14s 85ms/step - loss: 0.6620 - accuracy: 0.7346 - val_loss: 0.7587 - val_accuracy: 0.6936\n",
      "Epoch 53/150\n",
      "165/165 [==============================] - 14s 85ms/step - loss: 0.6490 - accuracy: 0.7430 - val_loss: 0.7605 - val_accuracy: 0.6942\n",
      "Epoch 54/150\n",
      "165/165 [==============================] - 14s 85ms/step - loss: 0.6412 - accuracy: 0.7453 - val_loss: 0.7614 - val_accuracy: 0.6975\n",
      "Epoch 55/150\n",
      "165/165 [==============================] - 14s 86ms/step - loss: 0.6296 - accuracy: 0.7497 - val_loss: 0.7666 - val_accuracy: 0.7014\n",
      "Epoch 56/150\n",
      "165/165 [==============================] - 14s 85ms/step - loss: 0.6292 - accuracy: 0.7481 - val_loss: 0.7632 - val_accuracy: 0.6981\n",
      "Epoch 57/150\n"
     ]
    },
    {
     "name": "stdout",
     "output_type": "stream",
     "text": [
      "165/165 [==============================] - 14s 86ms/step - loss: 0.6233 - accuracy: 0.7548 - val_loss: 0.7605 - val_accuracy: 0.6971\n",
      "Epoch 58/150\n",
      "165/165 [==============================] - 14s 85ms/step - loss: 0.6287 - accuracy: 0.7524 - val_loss: 0.7596 - val_accuracy: 0.7014\n",
      "Epoch 59/150\n",
      "165/165 [==============================] - 14s 86ms/step - loss: 0.6230 - accuracy: 0.7494 - val_loss: 0.7621 - val_accuracy: 0.6934\n",
      "Epoch 60/150\n",
      "165/165 [==============================] - 14s 85ms/step - loss: 0.6129 - accuracy: 0.7577 - val_loss: 0.7625 - val_accuracy: 0.6996\n",
      "Epoch 61/150\n",
      "165/165 [==============================] - 14s 86ms/step - loss: 0.6019 - accuracy: 0.7628 - val_loss: 0.7617 - val_accuracy: 0.6996\n",
      "Epoch 62/150\n",
      "165/165 [==============================] - 14s 84ms/step - loss: 0.6097 - accuracy: 0.7583 - val_loss: 0.7675 - val_accuracy: 0.6992\n",
      "Epoch 63/150\n",
      "165/165 [==============================] - 14s 85ms/step - loss: 0.6081 - accuracy: 0.7591 - val_loss: 0.7644 - val_accuracy: 0.7054\n",
      "Epoch 64/150\n",
      "165/165 [==============================] - 14s 86ms/step - loss: 0.5954 - accuracy: 0.7642 - val_loss: 0.7728 - val_accuracy: 0.6975\n",
      "Epoch 65/150\n",
      "165/165 [==============================] - 14s 85ms/step - loss: 0.6006 - accuracy: 0.7620 - val_loss: 0.7661 - val_accuracy: 0.7018\n",
      "Epoch 66/150\n",
      "165/165 [==============================] - 14s 86ms/step - loss: 0.5967 - accuracy: 0.7657 - val_loss: 0.7716 - val_accuracy: 0.6936\n",
      "Epoch 67/150\n",
      "165/165 [==============================] - 14s 86ms/step - loss: 0.5888 - accuracy: 0.7668 - val_loss: 0.7752 - val_accuracy: 0.6940\n",
      "Epoch 68/150\n",
      "165/165 [==============================] - 14s 85ms/step - loss: 0.5900 - accuracy: 0.7672 - val_loss: 0.7623 - val_accuracy: 0.7000\n",
      "Epoch 69/150\n",
      "165/165 [==============================] - 14s 85ms/step - loss: 0.5858 - accuracy: 0.7716 - val_loss: 0.7733 - val_accuracy: 0.7016\n",
      "Epoch 70/150\n",
      "165/165 [==============================] - 14s 86ms/step - loss: 0.5872 - accuracy: 0.7715 - val_loss: 0.7616 - val_accuracy: 0.6994\n",
      "Epoch 71/150\n",
      "165/165 [==============================] - 14s 86ms/step - loss: 0.5735 - accuracy: 0.7785 - val_loss: 0.7694 - val_accuracy: 0.6979\n",
      "Epoch 72/150\n",
      "165/165 [==============================] - 14s 86ms/step - loss: 0.5825 - accuracy: 0.7744 - val_loss: 0.7635 - val_accuracy: 0.7008\n",
      "Epoch 73/150\n",
      "165/165 [==============================] - 14s 84ms/step - loss: 0.5656 - accuracy: 0.7800 - val_loss: 0.7675 - val_accuracy: 0.6998\n",
      "Epoch 74/150\n",
      "165/165 [==============================] - 14s 83ms/step - loss: 0.5603 - accuracy: 0.7800 - val_loss: 0.7870 - val_accuracy: 0.6944\n",
      "Epoch 75/150\n",
      "165/165 [==============================] - 14s 83ms/step - loss: 0.5654 - accuracy: 0.7778 - val_loss: 0.7654 - val_accuracy: 0.6979\n",
      "Epoch 76/150\n",
      "165/165 [==============================] - 14s 83ms/step - loss: 0.5635 - accuracy: 0.7829 - val_loss: 0.7690 - val_accuracy: 0.6944\n",
      "Epoch 77/150\n",
      "165/165 [==============================] - 14s 82ms/step - loss: 0.5462 - accuracy: 0.7874 - val_loss: 0.7658 - val_accuracy: 0.7012\n",
      "Epoch 78/150\n",
      "165/165 [==============================] - 14s 83ms/step - loss: 0.5491 - accuracy: 0.7850 - val_loss: 0.7744 - val_accuracy: 0.6988\n",
      "Epoch 79/150\n",
      "165/165 [==============================] - 14s 84ms/step - loss: 0.5527 - accuracy: 0.7807 - val_loss: 0.7916 - val_accuracy: 0.6994\n",
      "Epoch 80/150\n",
      "165/165 [==============================] - 14s 85ms/step - loss: 0.5475 - accuracy: 0.7868 - val_loss: 0.7755 - val_accuracy: 0.6955\n",
      "Epoch 81/150\n",
      "165/165 [==============================] - 14s 85ms/step - loss: 0.5386 - accuracy: 0.7881 - val_loss: 0.7783 - val_accuracy: 0.6977\n",
      "Epoch 82/150\n",
      "165/165 [==============================] - 14s 85ms/step - loss: 0.5416 - accuracy: 0.7902 - val_loss: 0.7771 - val_accuracy: 0.6986\n",
      "Epoch 83/150\n",
      "165/165 [==============================] - 14s 85ms/step - loss: 0.5386 - accuracy: 0.7922 - val_loss: 0.7747 - val_accuracy: 0.7021\n",
      "Epoch 84/150\n",
      "165/165 [==============================] - 14s 85ms/step - loss: 0.5321 - accuracy: 0.7929 - val_loss: 0.7716 - val_accuracy: 0.7018\n",
      "Epoch 85/150\n",
      "165/165 [==============================] - 14s 85ms/step - loss: 0.5234 - accuracy: 0.7990 - val_loss: 0.7838 - val_accuracy: 0.7004\n",
      "Epoch 86/150\n",
      "165/165 [==============================] - 14s 86ms/step - loss: 0.5238 - accuracy: 0.7971 - val_loss: 0.7831 - val_accuracy: 0.6975\n",
      "Epoch 87/150\n",
      "165/165 [==============================] - 14s 86ms/step - loss: 0.5258 - accuracy: 0.7958 - val_loss: 0.7736 - val_accuracy: 0.6990\n",
      "Epoch 88/150\n",
      "165/165 [==============================] - 14s 86ms/step - loss: 0.5191 - accuracy: 0.7982 - val_loss: 0.7893 - val_accuracy: 0.6975\n",
      "Epoch 89/150\n",
      "165/165 [==============================] - 14s 86ms/step - loss: 0.5149 - accuracy: 0.8018 - val_loss: 0.7859 - val_accuracy: 0.7029\n",
      "Epoch 90/150\n",
      "165/165 [==============================] - 14s 86ms/step - loss: 0.5047 - accuracy: 0.8039 - val_loss: 0.7888 - val_accuracy: 0.6961\n",
      "Epoch 91/150\n",
      "165/165 [==============================] - 14s 85ms/step - loss: 0.5054 - accuracy: 0.8061 - val_loss: 0.7837 - val_accuracy: 0.7060\n",
      "Epoch 92/150\n",
      "165/165 [==============================] - 14s 85ms/step - loss: 0.5127 - accuracy: 0.8018 - val_loss: 0.7855 - val_accuracy: 0.7008\n",
      "Epoch 93/150\n",
      "165/165 [==============================] - 14s 86ms/step - loss: 0.5080 - accuracy: 0.8050 - val_loss: 0.7773 - val_accuracy: 0.6969\n",
      "Epoch 94/150\n",
      "165/165 [==============================] - 14s 86ms/step - loss: 0.4930 - accuracy: 0.8082 - val_loss: 0.7806 - val_accuracy: 0.7000\n",
      "Epoch 95/150\n",
      "165/165 [==============================] - 14s 86ms/step - loss: 0.4973 - accuracy: 0.8065 - val_loss: 0.7733 - val_accuracy: 0.7027\n",
      "Epoch 96/150\n",
      "165/165 [==============================] - 14s 86ms/step - loss: 0.4904 - accuracy: 0.8088 - val_loss: 0.7870 - val_accuracy: 0.7018\n",
      "Epoch 97/150\n",
      "165/165 [==============================] - 14s 86ms/step - loss: 0.4953 - accuracy: 0.8118 - val_loss: 0.7958 - val_accuracy: 0.6934\n",
      "Epoch 98/150\n",
      "165/165 [==============================] - 14s 86ms/step - loss: 0.4942 - accuracy: 0.8094 - val_loss: 0.7810 - val_accuracy: 0.6986\n",
      "Epoch 99/150\n",
      "165/165 [==============================] - 14s 83ms/step - loss: 0.4869 - accuracy: 0.8132 - val_loss: 0.7796 - val_accuracy: 0.7058\n",
      "Epoch 100/150\n",
      "165/165 [==============================] - 14s 82ms/step - loss: 0.4838 - accuracy: 0.8134 - val_loss: 0.7922 - val_accuracy: 0.6961\n",
      "Epoch 101/150\n",
      "165/165 [==============================] - 14s 84ms/step - loss: 0.4827 - accuracy: 0.8140 - val_loss: 0.7909 - val_accuracy: 0.7027\n",
      "Epoch 102/150\n",
      "165/165 [==============================] - 14s 85ms/step - loss: 0.4754 - accuracy: 0.8180 - val_loss: 0.7836 - val_accuracy: 0.6979\n",
      "Epoch 103/150\n",
      "165/165 [==============================] - 14s 85ms/step - loss: 0.4721 - accuracy: 0.8224 - val_loss: 0.7866 - val_accuracy: 0.7060\n",
      "Epoch 104/150\n",
      "165/165 [==============================] - 14s 86ms/step - loss: 0.4681 - accuracy: 0.8220 - val_loss: 0.8069 - val_accuracy: 0.7002\n",
      "Epoch 105/150\n",
      "165/165 [==============================] - 14s 86ms/step - loss: 0.4718 - accuracy: 0.8213 - val_loss: 0.7953 - val_accuracy: 0.6977\n",
      "Epoch 106/150\n",
      "165/165 [==============================] - 14s 86ms/step - loss: 0.4654 - accuracy: 0.8226 - val_loss: 0.7929 - val_accuracy: 0.6975\n",
      "Epoch 107/150\n",
      "165/165 [==============================] - 14s 87ms/step - loss: 0.4654 - accuracy: 0.8220 - val_loss: 0.7975 - val_accuracy: 0.6959\n",
      "Epoch 108/150\n",
      "165/165 [==============================] - 14s 85ms/step - loss: 0.4634 - accuracy: 0.8239 - val_loss: 0.7986 - val_accuracy: 0.6998\n",
      "Epoch 109/150\n",
      "165/165 [==============================] - 15s 88ms/step - loss: 0.4581 - accuracy: 0.8265 - val_loss: 0.8079 - val_accuracy: 0.6981\n",
      "Epoch 110/150\n",
      "165/165 [==============================] - 15s 91ms/step - loss: 0.4591 - accuracy: 0.8230 - val_loss: 0.8062 - val_accuracy: 0.6965\n",
      "Epoch 111/150\n",
      "165/165 [==============================] - 14s 86ms/step - loss: 0.4526 - accuracy: 0.8274 - val_loss: 0.8165 - val_accuracy: 0.6959\n",
      "Epoch 112/150\n",
      "165/165 [==============================] - 14s 82ms/step - loss: 0.4586 - accuracy: 0.8260 - val_loss: 0.7962 - val_accuracy: 0.7021\n",
      "Epoch 113/150\n"
     ]
    },
    {
     "name": "stdout",
     "output_type": "stream",
     "text": [
      "165/165 [==============================] - 14s 83ms/step - loss: 0.4498 - accuracy: 0.8326 - val_loss: 0.7855 - val_accuracy: 0.7029\n",
      "Epoch 114/150\n",
      "165/165 [==============================] - 14s 84ms/step - loss: 0.4402 - accuracy: 0.8324 - val_loss: 0.8350 - val_accuracy: 0.6946\n",
      "Epoch 115/150\n",
      "165/165 [==============================] - 14s 86ms/step - loss: 0.4476 - accuracy: 0.8300 - val_loss: 0.8068 - val_accuracy: 0.6955\n",
      "Epoch 116/150\n",
      "165/165 [==============================] - 14s 87ms/step - loss: 0.4419 - accuracy: 0.8328 - val_loss: 0.8285 - val_accuracy: 0.6946\n",
      "Epoch 117/150\n",
      "165/165 [==============================] - 14s 86ms/step - loss: 0.4438 - accuracy: 0.8333 - val_loss: 0.8300 - val_accuracy: 0.6944\n",
      "Epoch 118/150\n",
      "165/165 [==============================] - 14s 88ms/step - loss: 0.4379 - accuracy: 0.8366 - val_loss: 0.8186 - val_accuracy: 0.6961\n",
      "Epoch 119/150\n",
      "165/165 [==============================] - 14s 87ms/step - loss: 0.4363 - accuracy: 0.8353 - val_loss: 0.7943 - val_accuracy: 0.6984\n",
      "Epoch 120/150\n",
      "165/165 [==============================] - 14s 86ms/step - loss: 0.4272 - accuracy: 0.8399 - val_loss: 0.8245 - val_accuracy: 0.7002\n",
      "Epoch 121/150\n",
      "165/165 [==============================] - 14s 85ms/step - loss: 0.4273 - accuracy: 0.8386 - val_loss: 0.8268 - val_accuracy: 0.7000\n",
      "Epoch 122/150\n",
      "165/165 [==============================] - 14s 83ms/step - loss: 0.4334 - accuracy: 0.8374 - val_loss: 0.8327 - val_accuracy: 0.6947\n",
      "Epoch 123/150\n",
      "165/165 [==============================] - 14s 84ms/step - loss: 0.4191 - accuracy: 0.8431 - val_loss: 0.8266 - val_accuracy: 0.7037\n",
      "Epoch 124/150\n",
      "165/165 [==============================] - 14s 85ms/step - loss: 0.4150 - accuracy: 0.8443 - val_loss: 0.8271 - val_accuracy: 0.6979\n",
      "Epoch 125/150\n",
      "165/165 [==============================] - 15s 90ms/step - loss: 0.4210 - accuracy: 0.8421 - val_loss: 0.7949 - val_accuracy: 0.7025\n",
      "Epoch 126/150\n",
      "165/165 [==============================] - 15s 89ms/step - loss: 0.4155 - accuracy: 0.8432 - val_loss: 0.8222 - val_accuracy: 0.6990\n",
      "Epoch 127/150\n",
      "165/165 [==============================] - 14s 87ms/step - loss: 0.4144 - accuracy: 0.8411 - val_loss: 0.8130 - val_accuracy: 0.7051\n",
      "Epoch 128/150\n",
      "165/165 [==============================] - 14s 85ms/step - loss: 0.4198 - accuracy: 0.8395 - val_loss: 0.8259 - val_accuracy: 0.7035\n",
      "Epoch 129/150\n",
      "165/165 [==============================] - 14s 83ms/step - loss: 0.4152 - accuracy: 0.8436 - val_loss: 0.8217 - val_accuracy: 0.6969\n",
      "Epoch 130/150\n",
      "165/165 [==============================] - 14s 87ms/step - loss: 0.4094 - accuracy: 0.8466 - val_loss: 0.8149 - val_accuracy: 0.7039\n",
      "Epoch 131/150\n",
      "165/165 [==============================] - 15s 89ms/step - loss: 0.4078 - accuracy: 0.8448 - val_loss: 0.8252 - val_accuracy: 0.6895\n",
      "Epoch 132/150\n",
      "165/165 [==============================] - 14s 88ms/step - loss: 0.4110 - accuracy: 0.8481 - val_loss: 0.8164 - val_accuracy: 0.7035\n",
      "Epoch 133/150\n",
      "165/165 [==============================] - 15s 91ms/step - loss: 0.4129 - accuracy: 0.8452 - val_loss: 0.8386 - val_accuracy: 0.7018\n",
      "Epoch 134/150\n",
      "165/165 [==============================] - 14s 88ms/step - loss: 0.4117 - accuracy: 0.8463 - val_loss: 0.8082 - val_accuracy: 0.6975\n",
      "Epoch 135/150\n",
      "165/165 [==============================] - 15s 88ms/step - loss: 0.3957 - accuracy: 0.8521 - val_loss: 0.8166 - val_accuracy: 0.6973\n",
      "Epoch 136/150\n",
      "165/165 [==============================] - 14s 88ms/step - loss: 0.3964 - accuracy: 0.8537 - val_loss: 0.8276 - val_accuracy: 0.7049\n",
      "Epoch 137/150\n",
      "165/165 [==============================] - 14s 88ms/step - loss: 0.3990 - accuracy: 0.8513 - val_loss: 0.8168 - val_accuracy: 0.7025\n",
      "Epoch 138/150\n",
      "165/165 [==============================] - 15s 88ms/step - loss: 0.3977 - accuracy: 0.8507 - val_loss: 0.8302 - val_accuracy: 0.7010\n",
      "Epoch 139/150\n",
      "165/165 [==============================] - 14s 88ms/step - loss: 0.3953 - accuracy: 0.8520 - val_loss: 0.8571 - val_accuracy: 0.6994\n",
      "Epoch 140/150\n",
      "165/165 [==============================] - 15s 88ms/step - loss: 0.3938 - accuracy: 0.8527 - val_loss: 0.8270 - val_accuracy: 0.7004\n",
      "Epoch 141/150\n",
      "165/165 [==============================] - 14s 87ms/step - loss: 0.3810 - accuracy: 0.8590 - val_loss: 0.8371 - val_accuracy: 0.6996\n",
      "Epoch 142/150\n",
      "165/165 [==============================] - 15s 88ms/step - loss: 0.3867 - accuracy: 0.8542 - val_loss: 0.8317 - val_accuracy: 0.7012\n",
      "Epoch 143/150\n",
      "165/165 [==============================] - 14s 87ms/step - loss: 0.3883 - accuracy: 0.8532 - val_loss: 0.8327 - val_accuracy: 0.6979\n",
      "Epoch 144/150\n",
      "165/165 [==============================] - 15s 88ms/step - loss: 0.3910 - accuracy: 0.8547 - val_loss: 0.8173 - val_accuracy: 0.7035\n",
      "Epoch 145/150\n",
      "165/165 [==============================] - 14s 85ms/step - loss: 0.3785 - accuracy: 0.8596 - val_loss: 0.8434 - val_accuracy: 0.6938\n",
      "Epoch 146/150\n",
      "165/165 [==============================] - 14s 85ms/step - loss: 0.3865 - accuracy: 0.8558 - val_loss: 0.8360 - val_accuracy: 0.7008\n",
      "Epoch 147/150\n",
      "165/165 [==============================] - 14s 84ms/step - loss: 0.3736 - accuracy: 0.8603 - val_loss: 0.8639 - val_accuracy: 0.6959\n",
      "Epoch 148/150\n",
      "165/165 [==============================] - 14s 82ms/step - loss: 0.3750 - accuracy: 0.8610 - val_loss: 0.8397 - val_accuracy: 0.7016\n",
      "Epoch 149/150\n",
      "165/165 [==============================] - 14s 82ms/step - loss: 0.3807 - accuracy: 0.8591 - val_loss: 0.8461 - val_accuracy: 0.6967\n",
      "Epoch 150/150\n",
      "165/165 [==============================] - 14s 85ms/step - loss: 0.3773 - accuracy: 0.8593 - val_loss: 0.8174 - val_accuracy: 0.6977\n"
     ]
    },
    {
     "data": {
      "text/plain": [
       "<keras.callbacks.History at 0x7f5a4e1dbcd0>"
      ]
     },
     "execution_count": 27,
     "metadata": {},
     "output_type": "execute_result"
    }
   ],
   "source": [
    "model.fit(x= x_train,y = y_train, batch_size = 128, epochs = 150, validation_data = (x_test,y_test)) "
   ]
  },
  {
   "cell_type": "code",
   "execution_count": 28,
   "id": "328a1b10-8a22-480d-b033-27cab1acc4bf",
   "metadata": {},
   "outputs": [],
   "source": [
    "model_json = model.to_json()\n",
    "with open(\"emotiondetector1.json\",'w') as json_file:\n",
    "    json_file.write(model_json)\n",
    "model.save(\"emotiondetector1.h5\")"
   ]
  },
  {
   "cell_type": "code",
   "execution_count": 29,
   "id": "edc5cbeb-6155-4691-8f21-94e4433aa476",
   "metadata": {},
   "outputs": [],
   "source": [
    "from keras.models import model_from_json"
   ]
  },
  {
   "cell_type": "code",
   "execution_count": 30,
   "id": "17cab612-dfca-42e7-9dda-bd7a28e472d1",
   "metadata": {},
   "outputs": [],
   "source": [
    "json_file = open(\"emotiondetector1.json\", \"r\")\n",
    "model_json = json_file.read()\n",
    "json_file.close()\n",
    "model = model_from_json(model_json)\n",
    "model.load_weights(\"emotiondetector1.h5\")"
   ]
  },
  {
   "cell_type": "code",
   "execution_count": 31,
   "id": "5fd5f5e0-807e-4cf1-bc49-8e9f90f7dc76",
   "metadata": {},
   "outputs": [],
   "source": [
    "label = ['angry','happy','neutral','sad']"
   ]
  },
  {
   "cell_type": "code",
   "execution_count": 32,
   "id": "73fc3ebe-ebbf-4525-a017-9c61bdebc1d8",
   "metadata": {},
   "outputs": [],
   "source": [
    "def ef(image):\n",
    "    img = load_img(image,grayscale =  True )\n",
    "    feature = np.array(img)\n",
    "    feature = feature.reshape(1,48,48,1)\n",
    "    return feature/255.0"
   ]
  },
  {
   "cell_type": "code",
   "execution_count": 33,
   "id": "a72489a1-2067-4a38-9045-e6be8ddaaebf",
   "metadata": {},
   "outputs": [],
   "source": [
    "import matplotlib.pyplot as plt\n",
    "%matplotlib inline"
   ]
  },
  {
   "cell_type": "code",
   "execution_count": 35,
   "id": "d26a2c23",
   "metadata": {},
   "outputs": [
    {
     "name": "stdout",
     "output_type": "stream",
     "text": [
      "original image is of angry\n",
      "1/1 [==============================] - 0s 280ms/step\n",
      "model prediction is  angry\n"
     ]
    },
    {
     "data": {
      "text/plain": [
       "<matplotlib.image.AxesImage at 0x7f5a274fe4d0>"
      ]
     },
     "execution_count": 35,
     "metadata": {},
     "output_type": "execute_result"
    },
    {
     "data": {
      "image/png": "[encoded data removed]",
      "text/plain": [
       "<Figure size 640x480 with 1 Axes>"
      ]
     },
     "metadata": {},
     "output_type": "display_data"
    }
   ],
   "source": [
    "image = 'Data/images/train/angry/56.jpg'\n",
    "print(\"original image is of angry\")\n",
    "img = ef(image)\n",
    "pred = model.predict(img)\n",
    "pred_label = label[pred.argmax()]\n",
    "print(\"model prediction is \",pred_label)\n",
    "plt.imshow(img.reshape(48,48),cmap='gray')"
   ]
  },
  {
   "cell_type": "code",
   "execution_count": 36,
   "id": "1974298c",
   "metadata": {},
   "outputs": [
    {
     "name": "stdout",
     "output_type": "stream",
     "text": [
      "original image is of sad\n",
      "1/1 [==============================] - 0s 17ms/step\n",
      "model prediction is  sad\n"
     ]
    },
    {
     "data": {
      "text/plain": [
       "<matplotlib.image.AxesImage at 0x7f5a27134dd0>"
      ]
     },
     "execution_count": 36,
     "metadata": {},
     "output_type": "execute_result"
    },
    {
     "data": {
      "image/png": "[encoded data removed]",
      "text/plain": [
       "<Figure size 640x480 with 1 Axes>"
      ]
     },
     "metadata": {},
     "output_type": "display_data"
    }
   ],
   "source": [
    "image = 'Data/images/train/sad/130.jpg'\n",
    "print(\"original image is of sad\")\n",
    "img = ef(image)\n",
    "pred = model.predict(img)\n",
    "pred_label = label[pred.argmax()]\n",
    "print(\"model prediction is \",pred_label)\n",
    "plt.imshow(img.reshape(48,48),cmap='gray')"
   ]
  },
  {
   "cell_type": "code",
   "execution_count": 38,
   "id": "da138526",
   "metadata": {},
   "outputs": [
    {
     "name": "stdout",
     "output_type": "stream",
     "text": [
      "original image is of happy\n",
      "1/1 [==============================] - 0s 15ms/step\n",
      "model prediction is  happy\n"
     ]
    },
    {
     "data": {
      "text/plain": [
       "<matplotlib.image.AxesImage at 0x7f5a26ddbf50>"
      ]
     },
     "execution_count": 38,
     "metadata": {},
     "output_type": "execute_result"
    },
    {
     "data": {
      "image/png": "[encoded data removed]",
      "text/plain": [
       "<Figure size 640x480 with 1 Axes>"
      ]
     },
     "metadata": {},
     "output_type": "display_data"
    }
   ],
   "source": [
    "image = 'Data/images/train/happy/114.jpg'\n",
    "print(\"original image is of happy\")\n",
    "img = ef(image)\n",
    "pred = model.predict(img)\n",
    "pred_label = label[pred.argmax()]\n",
    "print(\"model prediction is \",pred_label)\n",
    "plt.imshow(img.reshape(48,48),cmap='gray')"
   ]
  }
 ],
 "metadata": {
  "kernelspec": {
   "display_name": "Python 3 (ipykernel)",
   "language": "python",
   "name": "python3"
  },
  "language_info": {
   "codemirror_mode": {
    "name": "ipython",
    "version": 3
   },
   "file_extension": ".py",
   "mimetype": "text/x-python",
   "name": "python",
   "nbconvert_exporter": "python",
   "pygments_lexer": "ipython3",
   "version": "3.7.5"
  }
 },
 "nbformat": 4,
 "nbformat_minor": 5
}
